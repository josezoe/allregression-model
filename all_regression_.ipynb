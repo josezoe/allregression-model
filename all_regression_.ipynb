{
  "nbformat": 4,
  "nbformat_minor": 0,
  "metadata": {
    "colab": {
      "provenance": []
    },
    "kernelspec": {
      "name": "python3",
      "display_name": "Python 3"
    },
    "language_info": {
      "name": "python"
    }
  },
  "cells": [
    {
      "cell_type": "code",
      "execution_count": 12,
      "metadata": {
        "id": "7n2_g74VUy7z"
      },
      "outputs": [],
      "source": [
        "import numpy as np\n",
        "import pandas as pd\n",
        "from  sklearn.ensemble import RandomForestRegressor\n",
        "from  sklearn.tree import DecisionTreeRegressor\n",
        "from sklearn.metrics import mean_squared_error,mean_absolute_error\n",
        "from sklearn.svm import SVR\n",
        "from sklearn.linear_model import LinearRegression"
      ]
    },
    {
      "cell_type": "markdown",
      "source": [
        "Load the data "
      ],
      "metadata": {
        "id": "ldw8-PgZuwFH"
      }
    },
    {
      "cell_type": "code",
      "source": [
        "df=pd.read_csv(\"Position_Salaries.csv\")\n",
        "x=df.iloc[:,1:-1].values\n",
        "y=df.iloc[:,-1].values"
      ],
      "metadata": {
        "id": "4Z8zR0Y8uWpT"
      },
      "execution_count": 16,
      "outputs": []
    },
    {
      "cell_type": "markdown",
      "source": [
        "Create a linear regression"
      ],
      "metadata": {
        "id": "JP1F_Bdeuzxm"
      }
    },
    {
      "cell_type": "code",
      "source": [
        "lm=LinearRegression()\n",
        "lm.fit(x,y)"
      ],
      "metadata": {
        "colab": {
          "base_uri": "https://localhost:8080/"
        },
        "id": "PorPtinruuIu",
        "outputId": "3ec5a23a-f0df-4720-f3ee-980acf657e9d"
      },
      "execution_count": 17,
      "outputs": [
        {
          "output_type": "execute_result",
          "data": {
            "text/plain": [
              "LinearRegression()"
            ]
          },
          "metadata": {},
          "execution_count": 17
        }
      ]
    },
    {
      "cell_type": "code",
      "source": [
        "y_pred=lm.predict([[6.5]])\n",
        "print(y_pred)"
      ],
      "metadata": {
        "colab": {
          "base_uri": "https://localhost:8080/"
        },
        "id": "4D_dAC-RxeyN",
        "outputId": "1063c4fd-2ea1-4643-8226-64a8878ee566"
      },
      "execution_count": 19,
      "outputs": [
        {
          "output_type": "stream",
          "name": "stdout",
          "text": [
            "[330378.78787879]\n"
          ]
        }
      ]
    },
    {
      "cell_type": "markdown",
      "source": [
        "Create SVR"
      ],
      "metadata": {
        "id": "y7L8cHO3yDO7"
      }
    },
    {
      "cell_type": "code",
      "source": [
        "smr=SVR()"
      ],
      "metadata": {
        "id": "y5PLTPmTyHf9"
      },
      "execution_count": 21,
      "outputs": []
    },
    {
      "cell_type": "code",
      "source": [
        "smr.fit(x,y)"
      ],
      "metadata": {
        "colab": {
          "base_uri": "https://localhost:8080/"
        },
        "id": "QRmC_pALynz8",
        "outputId": "bf494ba0-ade8-4cf8-edf5-2a67419c132f"
      },
      "execution_count": 23,
      "outputs": [
        {
          "output_type": "execute_result",
          "data": {
            "text/plain": [
              "SVR()"
            ]
          },
          "metadata": {},
          "execution_count": 23
        }
      ]
    },
    {
      "cell_type": "code",
      "source": [
        "svr_pred=smr.predict([[6.5]])\n",
        "print(svr_pred)"
      ],
      "metadata": {
        "colab": {
          "base_uri": "https://localhost:8080/"
        },
        "id": "umHXy-sayuKe",
        "outputId": "ebd8669c-0411-4b5b-ae25-8286cbf21860"
      },
      "execution_count": 24,
      "outputs": [
        {
          "output_type": "stream",
          "name": "stdout",
          "text": [
            "[130001.82883924]\n"
          ]
        }
      ]
    },
    {
      "cell_type": "markdown",
      "source": [
        "Create random forrest "
      ],
      "metadata": {
        "id": "NmpewbVjy_yC"
      }
    },
    {
      "cell_type": "code",
      "source": [
        "rm=RandomForestRegressor()"
      ],
      "metadata": {
        "id": "Wa_odSquy-0D"
      },
      "execution_count": 26,
      "outputs": []
    },
    {
      "cell_type": "code",
      "source": [
        "rm.fit(x,y)"
      ],
      "metadata": {
        "colab": {
          "base_uri": "https://localhost:8080/"
        },
        "id": "Wra4D5d3zLZ5",
        "outputId": "15af2128-9324-4de4-a344-ed5d04c568cd"
      },
      "execution_count": 27,
      "outputs": [
        {
          "output_type": "execute_result",
          "data": {
            "text/plain": [
              "RandomForestRegressor()"
            ]
          },
          "metadata": {},
          "execution_count": 27
        }
      ]
    },
    {
      "cell_type": "code",
      "source": [
        "rm_pred=rm.predict([[6.5]])"
      ],
      "metadata": {
        "id": "WI5RY97_zstM"
      },
      "execution_count": 29,
      "outputs": []
    },
    {
      "cell_type": "code",
      "source": [
        "print(rm_pred)"
      ],
      "metadata": {
        "colab": {
          "base_uri": "https://localhost:8080/"
        },
        "id": "LhNly745zzqB",
        "outputId": "15d8814d-93bd-48e1-bcd6-6b9e9a68e8ce"
      },
      "execution_count": 30,
      "outputs": [
        {
          "output_type": "stream",
          "name": "stdout",
          "text": [
            "[169700.]\n"
          ]
        }
      ]
    },
    {
      "cell_type": "markdown",
      "source": [
        "Create a decision Tree regressor "
      ],
      "metadata": {
        "id": "0rKVEUTFz5e3"
      }
    },
    {
      "cell_type": "code",
      "source": [
        "dt=DecisionTreeRegressor()"
      ],
      "metadata": {
        "id": "rTex63R_0IoJ"
      },
      "execution_count": 32,
      "outputs": []
    },
    {
      "cell_type": "code",
      "source": [
        "dt.fit(x,y)"
      ],
      "metadata": {
        "colab": {
          "base_uri": "https://localhost:8080/"
        },
        "id": "nY96FM-60Pm6",
        "outputId": "053c6427-969b-420e-c064-d0c81bc66b3b"
      },
      "execution_count": 35,
      "outputs": [
        {
          "output_type": "execute_result",
          "data": {
            "text/plain": [
              "DecisionTreeRegressor()"
            ]
          },
          "metadata": {},
          "execution_count": 35
        }
      ]
    },
    {
      "cell_type": "code",
      "source": [
        "dt_pred=dt.predict([[6.5]])\n",
        "print(dt_pred)"
      ],
      "metadata": {
        "colab": {
          "base_uri": "https://localhost:8080/"
        },
        "id": "pfCNsBZp0nPP",
        "outputId": "950d63db-dbe6-49e3-91f9-7e2ff2709638"
      },
      "execution_count": 36,
      "outputs": [
        {
          "output_type": "stream",
          "name": "stdout",
          "text": [
            "[150000.]\n"
          ]
        }
      ]
    },
    {
      "cell_type": "code",
      "source": [
        "from sklearn.model_selection import cross_val_score\n",
        "\n",
        "# Create a list of models\n",
        "models = [lm, smr, dt, rm]\n",
        "best_model = None\n",
        "best_score = float('inf')\n",
        "\n",
        "# Loop over the models\n",
        "for model in models:\n",
        "  scores = cross_val_score(model, x, y, cv=5)\n",
        "  mean = scores.mean()\n",
        "  std = scores.std()\n",
        "  if mean < best_score:\n",
        "    best_score = mean\n",
        "    best_model = model\n",
        "\n",
        "# Print the best model\n",
        "print(\"Best model:\", best_model)\n"
      ],
      "metadata": {
        "colab": {
          "base_uri": "https://localhost:8080/"
        },
        "id": "KtRfnX6CDTVf",
        "outputId": "10a18b2a-d6c7-4d1a-d4ae-16410b0676e9"
      },
      "execution_count": 44,
      "outputs": [
        {
          "output_type": "stream",
          "name": "stdout",
          "text": [
            "Best model: LinearRegression()\n"
          ]
        }
      ]
    },
    {
      "cell_type": "code",
      "source": [
        "scores"
      ],
      "metadata": {
        "colab": {
          "base_uri": "https://localhost:8080/"
        },
        "id": "zGW1CLjxGeP1",
        "outputId": "9c2f86a6-e642-43af-b589-c0c7b2d3086a"
      },
      "execution_count": 46,
      "outputs": [
        {
          "output_type": "execute_result",
          "data": {
            "text/plain": [
              "array([-5.836960e+01,  3.495000e-02, -1.633300e+00, -2.504618e+00,\n",
              "       -3.904576e+00])"
            ]
          },
          "metadata": {},
          "execution_count": 46
        }
      ]
    },
    {
      "cell_type": "code",
      "source": [
        "scores.mean()"
      ],
      "metadata": {
        "colab": {
          "base_uri": "https://localhost:8080/"
        },
        "id": "kIQSfvh0GhpV",
        "outputId": "c6f4c59a-21d7-45b3-af8d-767781a2dd83"
      },
      "execution_count": 47,
      "outputs": [
        {
          "output_type": "execute_result",
          "data": {
            "text/plain": [
              "-13.2754288"
            ]
          },
          "metadata": {},
          "execution_count": 47
        }
      ]
    }
  ]
}